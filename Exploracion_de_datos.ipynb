{
    "nbformat": 4,
    "nbformat_minor": 0,
    "metadata": {
        "colab": {
            "name": "Exploracion_de_datos.ipynb",
            "provenance": [],
            "collapsed_sections": [],
            "authorship_tag": "ABX9TyNAuLCed0FSFPdcZEf8jJ59"
        },
        "kernelspec": {
            "name": "python3",
            "display_name": "Python 3"
        },
        "language_info": {
            "name": "python"
        }
    },
    "cells": [
        {
            "cell_type": "code",
            "execution_count": null,
            "metadata": {
                "id": "nWtNBK5i3PkB"
            },
            "outputs": [],
            "source": "import numpy as np\nimport pandas as pd\nimport matplotlib.pyplot as plt\nimport seaborn as sns\n"
        },
        {
            "cell_type": "code",
            "source": "df = pd.read_csv(\"/content/esudiantes.csv\")\n\ndf.head()",
            "metadata": {
                "colab": {
                    "base_uri": "https://localhost:8080/",
                    "height": 206
                },
                "id": "n1MpGqz735u-",
                "executionInfo": {
                    "status": "ok",
                    "timestamp": 1654697245890,
                    "user_tz": -120,
                    "elapsed": 33,
                    "user": {
                        "displayName": "Joan Marcual",
                        "userId": "06988399211709874432"
                    }
                },
                "outputId": "ff17819c-fb00-461e-d11a-e9b03f8c54ab"
            },
            "execution_count": null,
            "outputs": [
                {
                    "output_type": "execute_result",
                    "data": {
                        "text/plain": "   Estudiantes   Nombre  Edad  Nota_media\n0     46985635     Juan     7    6.351477\n1     27633479  Antonio     7    6.643841\n2     30164631    Jaime     7    6.524240\n3      4066532    Pablo     7    6.308820\n4      9477875  Rodrigo     7    6.770613",
                        "text/html": "\n  <div id=\"df-05a3ed3d-8d5c-4034-91eb-a16135618225\">\n    <div class=\"colab-df-container\">\n      <div>\n<style scoped>\n    .dataframe tbody tr th:only-of-type {\n        vertical-align: middle;\n    }\n\n    .dataframe tbody tr th {\n        vertical-align: top;\n    }\n\n    .dataframe thead th {\n        text-align: right;\n    }\n</style>\n<table border=\"1\" class=\"dataframe\">\n  <thead>\n    <tr style=\"text-align: right;\">\n      <th></th>\n      <th>Estudiantes</th>\n      <th>Nombre</th>\n      <th>Edad</th>\n      <th>Nota_media</th>\n    </tr>\n  </thead>\n  <tbody>\n    <tr>\n      <th>0</th>\n      <td>46985635</td>\n      <td>Juan</td>\n      <td>7</td>\n      <td>6.351477</td>\n    </tr>\n    <tr>\n      <th>1</th>\n      <td>27633479</td>\n      <td>Antonio</td>\n      <td>7</td>\n      <td>6.643841</td>\n    </tr>\n    <tr>\n      <th>2</th>\n      <td>30164631</td>\n      <td>Jaime</td>\n      <td>7</td>\n      <td>6.524240</td>\n    </tr>\n    <tr>\n      <th>3</th>\n      <td>4066532</td>\n      <td>Pablo</td>\n      <td>7</td>\n      <td>6.308820</td>\n    </tr>\n    <tr>\n      <th>4</th>\n      <td>9477875</td>\n      <td>Rodrigo</td>\n      <td>7</td>\n      <td>6.770613</td>\n    </tr>\n  </tbody>\n</table>\n</div>\n      <button class=\"colab-df-convert\" onclick=\"convertToInteractive('df-05a3ed3d-8d5c-4034-91eb-a16135618225')\"\n              title=\"Convert this dataframe to an interactive table.\"\n              style=\"display:none;\">\n        \n  <svg xmlns=\"http://www.w3.org/2000/svg\" height=\"24px\"viewBox=\"0 0 24 24\"\n       width=\"24px\">\n    <path d=\"M0 0h24v24H0V0z\" fill=\"none\"/>\n    <path d=\"M18.56 5.44l.94 2.06.94-2.06 2.06-.94-2.06-.94-.94-2.06-.94 2.06-2.06.94zm-11 1L8.5 8.5l.94-2.06 2.06-.94-2.06-.94L8.5 2.5l-.94 2.06-2.06.94zm10 10l.94 2.06.94-2.06 2.06-.94-2.06-.94-.94-2.06-.94 2.06-2.06.94z\"/><path d=\"M17.41 7.96l-1.37-1.37c-.4-.4-.92-.59-1.43-.59-.52 0-1.04.2-1.43.59L10.3 9.45l-7.72 7.72c-.78.78-.78 2.05 0 2.83L4 21.41c.39.39.9.59 1.41.59.51 0 1.02-.2 1.41-.59l7.78-7.78 2.81-2.81c.8-.78.8-2.07 0-2.86zM5.41 20L4 18.59l7.72-7.72 1.47 1.35L5.41 20z\"/>\n  </svg>\n      </button>\n      \n  <style>\n    .colab-df-container {\n      display:flex;\n      flex-wrap:wrap;\n      gap: 12px;\n    }\n\n    .colab-df-convert {\n      background-color: #E8F0FE;\n      border: none;\n      border-radius: 50%;\n      cursor: pointer;\n      display: none;\n      fill: #1967D2;\n      height: 32px;\n      padding: 0 0 0 0;\n      width: 32px;\n    }\n\n    .colab-df-convert:hover {\n      background-color: #E2EBFA;\n      box-shadow: 0px 1px 2px rgba(60, 64, 67, 0.3), 0px 1px 3px 1px rgba(60, 64, 67, 0.15);\n      fill: #174EA6;\n    }\n\n    [theme=dark] .colab-df-convert {\n      background-color: #3B4455;\n      fill: #D2E3FC;\n    }\n\n    [theme=dark] .colab-df-convert:hover {\n      background-color: #434B5C;\n      box-shadow: 0px 1px 3px 1px rgba(0, 0, 0, 0.15);\n      filter: drop-shadow(0px 1px 2px rgba(0, 0, 0, 0.3));\n      fill: #FFFFFF;\n    }\n  </style>\n\n      <script>\n        const buttonEl =\n          document.querySelector('#df-05a3ed3d-8d5c-4034-91eb-a16135618225 button.colab-df-convert');\n        buttonEl.style.display =\n          google.colab.kernel.accessAllowed ? 'block' : 'none';\n\n        async function convertToInteractive(key) {\n          const element = document.querySelector('#df-05a3ed3d-8d5c-4034-91eb-a16135618225');\n          const dataTable =\n            await google.colab.kernel.invokeFunction('convertToInteractive',\n                                                     [key], {});\n          if (!dataTable) return;\n\n          const docLinkHtml = 'Like what you see? Visit the ' +\n            '<a target=\"_blank\" href=https://colab.research.google.com/notebooks/data_table.ipynb>data table notebook</a>'\n            + ' to learn more about interactive tables.';\n          element.innerHTML = '';\n          dataTable['output_type'] = 'display_data';\n          await google.colab.output.renderOutput(dataTable, element);\n          const docLink = document.createElement('div');\n          docLink.innerHTML = docLinkHtml;\n          element.appendChild(docLink);\n        }\n      </script>\n    </div>\n  </div>\n  "
                    },
                    "metadata": {},
                    "execution_count": 2
                }
            ]
        },
        {
            "cell_type": "code",
            "source": "df.describe()",
            "metadata": {
                "colab": {
                    "base_uri": "https://localhost:8080/",
                    "height": 300
                },
                "id": "4lVEcZQNXtv3",
                "executionInfo": {
                    "status": "ok",
                    "timestamp": 1654697245891,
                    "user_tz": -120,
                    "elapsed": 30,
                    "user": {
                        "displayName": "Joan Marcual",
                        "userId": "06988399211709874432"
                    }
                },
                "outputId": "75e2a33a-f66a-4825-dcab-22bb8aab8fa6"
            },
            "execution_count": null,
            "outputs": [
                {
                    "output_type": "execute_result",
                    "data": {
                        "text/plain": "        Estudiantes       Edad  Nota_media\ncount  2.300000e+01  23.000000   22.000000\nmean   2.459051e+07   8.956522    6.707185\nstd    2.085364e+07   7.876768    1.977321\nmin    7.491980e+05   7.000000    0.000000\n25%    1.053620e+07   7.000000    6.513391\n50%    2.211384e+07   7.000000    6.848500\n75%    3.554993e+07   8.000000    7.281788\nmax    9.203519e+07  45.000000   10.318906",
                        "text/html": "\n  <div id=\"df-19878fd2-36e1-4e47-ab01-ad8858ce2cc4\">\n    <div class=\"colab-df-container\">\n      <div>\n<style scoped>\n    .dataframe tbody tr th:only-of-type {\n        vertical-align: middle;\n    }\n\n    .dataframe tbody tr th {\n        vertical-align: top;\n    }\n\n    .dataframe thead th {\n        text-align: right;\n    }\n</style>\n<table border=\"1\" class=\"dataframe\">\n  <thead>\n    <tr style=\"text-align: right;\">\n      <th></th>\n      <th>Estudiantes</th>\n      <th>Edad</th>\n      <th>Nota_media</th>\n    </tr>\n  </thead>\n  <tbody>\n    <tr>\n      <th>count</th>\n      <td>2.300000e+01</td>\n      <td>23.000000</td>\n      <td>22.000000</td>\n    </tr>\n    <tr>\n      <th>mean</th>\n      <td>2.459051e+07</td>\n      <td>8.956522</td>\n      <td>6.707185</td>\n    </tr>\n    <tr>\n      <th>std</th>\n      <td>2.085364e+07</td>\n      <td>7.876768</td>\n      <td>1.977321</td>\n    </tr>\n    <tr>\n      <th>min</th>\n      <td>7.491980e+05</td>\n      <td>7.000000</td>\n      <td>0.000000</td>\n    </tr>\n    <tr>\n      <th>25%</th>\n      <td>1.053620e+07</td>\n      <td>7.000000</td>\n      <td>6.513391</td>\n    </tr>\n    <tr>\n      <th>50%</th>\n      <td>2.211384e+07</td>\n      <td>7.000000</td>\n      <td>6.848500</td>\n    </tr>\n    <tr>\n      <th>75%</th>\n      <td>3.554993e+07</td>\n      <td>8.000000</td>\n      <td>7.281788</td>\n    </tr>\n    <tr>\n      <th>max</th>\n      <td>9.203519e+07</td>\n      <td>45.000000</td>\n      <td>10.318906</td>\n    </tr>\n  </tbody>\n</table>\n</div>\n      <button class=\"colab-df-convert\" onclick=\"convertToInteractive('df-19878fd2-36e1-4e47-ab01-ad8858ce2cc4')\"\n              title=\"Convert this dataframe to an interactive table.\"\n              style=\"display:none;\">\n        \n  <svg xmlns=\"http://www.w3.org/2000/svg\" height=\"24px\"viewBox=\"0 0 24 24\"\n       width=\"24px\">\n    <path d=\"M0 0h24v24H0V0z\" fill=\"none\"/>\n    <path d=\"M18.56 5.44l.94 2.06.94-2.06 2.06-.94-2.06-.94-.94-2.06-.94 2.06-2.06.94zm-11 1L8.5 8.5l.94-2.06 2.06-.94-2.06-.94L8.5 2.5l-.94 2.06-2.06.94zm10 10l.94 2.06.94-2.06 2.06-.94-2.06-.94-.94-2.06-.94 2.06-2.06.94z\"/><path d=\"M17.41 7.96l-1.37-1.37c-.4-.4-.92-.59-1.43-.59-.52 0-1.04.2-1.43.59L10.3 9.45l-7.72 7.72c-.78.78-.78 2.05 0 2.83L4 21.41c.39.39.9.59 1.41.59.51 0 1.02-.2 1.41-.59l7.78-7.78 2.81-2.81c.8-.78.8-2.07 0-2.86zM5.41 20L4 18.59l7.72-7.72 1.47 1.35L5.41 20z\"/>\n  </svg>\n      </button>\n      \n  <style>\n    .colab-df-container {\n      display:flex;\n      flex-wrap:wrap;\n      gap: 12px;\n    }\n\n    .colab-df-convert {\n      background-color: #E8F0FE;\n      border: none;\n      border-radius: 50%;\n      cursor: pointer;\n      display: none;\n      fill: #1967D2;\n      height: 32px;\n      padding: 0 0 0 0;\n      width: 32px;\n    }\n\n    .colab-df-convert:hover {\n      background-color: #E2EBFA;\n      box-shadow: 0px 1px 2px rgba(60, 64, 67, 0.3), 0px 1px 3px 1px rgba(60, 64, 67, 0.15);\n      fill: #174EA6;\n    }\n\n    [theme=dark] .colab-df-convert {\n      background-color: #3B4455;\n      fill: #D2E3FC;\n    }\n\n    [theme=dark] .colab-df-convert:hover {\n      background-color: #434B5C;\n      box-shadow: 0px 1px 3px 1px rgba(0, 0, 0, 0.15);\n      filter: drop-shadow(0px 1px 2px rgba(0, 0, 0, 0.3));\n      fill: #FFFFFF;\n    }\n  </style>\n\n      <script>\n        const buttonEl =\n          document.querySelector('#df-19878fd2-36e1-4e47-ab01-ad8858ce2cc4 button.colab-df-convert');\n        buttonEl.style.display =\n          google.colab.kernel.accessAllowed ? 'block' : 'none';\n\n        async function convertToInteractive(key) {\n          const element = document.querySelector('#df-19878fd2-36e1-4e47-ab01-ad8858ce2cc4');\n          const dataTable =\n            await google.colab.kernel.invokeFunction('convertToInteractive',\n                                                     [key], {});\n          if (!dataTable) return;\n\n          const docLinkHtml = 'Like what you see? Visit the ' +\n            '<a target=\"_blank\" href=https://colab.research.google.com/notebooks/data_table.ipynb>data table notebook</a>'\n            + ' to learn more about interactive tables.';\n          element.innerHTML = '';\n          dataTable['output_type'] = 'display_data';\n          await google.colab.output.renderOutput(dataTable, element);\n          const docLink = document.createElement('div');\n          docLink.innerHTML = docLinkHtml;\n          element.appendChild(docLink);\n        }\n      </script>\n    </div>\n  </div>\n  "
                    },
                    "metadata": {},
                    "execution_count": 3
                }
            ]
        },
        {
            "cell_type": "code",
            "source": "df[\"Nota_media\"].median()",
            "metadata": {
                "colab": {
                    "base_uri": "https://localhost:8080/"
                },
                "id": "z8Z8PujI7hYC",
                "executionInfo": {
                    "status": "ok",
                    "timestamp": 1654697245893,
                    "user_tz": -120,
                    "elapsed": 29,
                    "user": {
                        "displayName": "Joan Marcual",
                        "userId": "06988399211709874432"
                    }
                },
                "outputId": "0a33ea52-a699-4688-9a3d-04f6782e1fad"
            },
            "execution_count": null,
            "outputs": [
                {
                    "output_type": "execute_result",
                    "data": {
                        "text/plain": "6.848500011"
                    },
                    "metadata": {},
                    "execution_count": 4
                }
            ]
        },
        {
            "cell_type": "code",
            "source": "\nsns.distplot(df['Edad'])\nplt.show()\n",
            "metadata": {
                "colab": {
                    "base_uri": "https://localhost:8080/",
                    "height": 334
                },
                "id": "U2FlOaLL6CgI",
                "executionInfo": {
                    "status": "ok",
                    "timestamp": 1654697245894,
                    "user_tz": -120,
                    "elapsed": 28,
                    "user": {
                        "displayName": "Joan Marcual",
                        "userId": "06988399211709874432"
                    }
                },
                "outputId": "5f04f4c4-5363-41ab-ef65-042f177040a9"
            },
            "execution_count": null,
            "outputs": [
                {
                    "output_type": "stream",
                    "name": "stderr",
                    "text": "/usr/local/lib/python3.7/dist-packages/seaborn/distributions.py:2619: FutureWarning: `distplot` is a deprecated function and will be removed in a future version. Please adapt your code to use either `displot` (a figure-level function with similar flexibility) or `histplot` (an axes-level function for histograms).\n  warnings.warn(msg, FutureWarning)\n"
                },
                {
                    "output_type": "display_data",
                    "data": {
                        "text/plain": "<Figure size 432x288 with 1 Axes>",
                        "image/png": "[encoded data removed]"
                    },
                    "metadata": {
                        "needs_background": "light"
                    }
                }
            ]
        },
        {
            "cell_type": "code",
            "source": "sns.distplot(df['Nota_media'])\nplt.show()",
            "metadata": {
                "colab": {
                    "base_uri": "https://localhost:8080/",
                    "height": 335
                },
                "id": "cmAfSPTS-SbW",
                "executionInfo": {
                    "status": "ok",
                    "timestamp": 1654693381223,
                    "user_tz": -120,
                    "elapsed": 336,
                    "user": {
                        "displayName": "Joan Marcual",
                        "userId": "06988399211709874432"
                    }
                },
                "outputId": "4ac28e0f-67d4-4ec4-cef0-a5d3f170bfdf"
            },
            "execution_count": null,
            "outputs": [
                {
                    "output_type": "stream",
                    "name": "stderr",
                    "text": "/usr/local/lib/python3.7/dist-packages/seaborn/distributions.py:2619: FutureWarning: `distplot` is a deprecated function and will be removed in a future version. Please adapt your code to use either `displot` (a figure-level function with similar flexibility) or `histplot` (an axes-level function for histograms).\n  warnings.warn(msg, FutureWarning)\n"
                },
                {
                    "output_type": "display_data",
                    "data": {
                        "text/plain": "<Figure size 432x288 with 1 Axes>",
                        "image/png": "[encoded data removed]"
                    },
                    "metadata": {
                        "needs_background": "light"
                    }
                }
            ]
        }
    ]
}